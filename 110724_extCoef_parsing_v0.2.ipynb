{
 "cells": [
  {
   "cell_type": "code",
   "execution_count": 54,
   "id": "4deccb06",
   "metadata": {},
   "outputs": [],
   "source": [
    "import sys, os, re, math, csv\n",
    "import pandas as pd\n",
    "from collections import OrderedDict\n",
    "import collections\n",
    "import glob, xmltodict\n",
    "from pprint import pprint\n",
    "from rdkit import Chem\n",
    "from pypdf import PdfReader\n",
    "import cirpy"
   ]
  },
  {
   "cell_type": "code",
   "execution_count": 2,
   "id": "2d8c5b47",
   "metadata": {},
   "outputs": [],
   "source": [
    "pdf_path = \"./reaxysRN_records/blockO.pdf\"\n",
    "pdf_reader = PdfReader(pdf_path)"
   ]
  },
  {
   "cell_type": "code",
   "execution_count": 3,
   "id": "a5771ad5",
   "metadata": {},
   "outputs": [],
   "source": [
    "text = \"\" # length 820132 for block A\n",
    "for page in pdf_reader.pages:\n",
    "    text += page.extract_text()"
   ]
  },
  {
   "cell_type": "code",
   "execution_count": 64,
   "id": "7d2ffecb",
   "metadata": {},
   "outputs": [],
   "source": [
    "# Dictionary to convert solvents (as referenced by reaxys) into smiles for chemprop\n",
    "solvents = {'acetonitrile': 'CC#N','MeCN': 'CC#N','ethanol': 'CCO','water': 'O','H2O': 'O',\n",
    "            'dichloromethane': 'ClCCl','toluene': 'Cc1ccccc1','methanol': 'CO',\n",
    "            '2-methyl-propan-2-ol': 'CC(O)(C)C','isopropyl alcohol': 'CC(O)C','benzene': 'c1ccccc1',\n",
    "            '1,2-dichloro-benzene': 'Clc1c(Cl)cccc1','1,4-dioxane': 'C1OCCOC1',\n",
    "            'dimethyl sulfoxide': 'CS(=O)C','dimethylsulfoxide': 'CS(=O)C','chloroform': 'ClC(Cl)Cl',\n",
    "            'CHCl3': 'ClC(Cl)Cl','dimethylformamide': 'CN(C=O)C','N,N-dimethyl-formamide': 'CN(C=O)C',\n",
    "            '1-methyl-pyrrolidin-2-one': 'CN1CCCC1=O','hexane': 'CCCCCC','cyclohexane': 'C1CCCCC1',\n",
    "            'ethyl acetate': 'O=C(OCC)C',\n",
    "            }"
   ]
  },
  {
   "cell_type": "code",
   "execution_count": 5,
   "id": "ad4b8f62",
   "metadata": {},
   "outputs": [],
   "source": [
    "lines = text.splitlines()\n",
    "rows = [] # list of lists generated. rows[0] is header, 1-999 are entries for block A. \n",
    "current_row = []\n",
    "for line in lines:\n",
    "    if \"Reaxys ID\" in line and current_row:\n",
    "        rows.append(current_row)\n",
    "        current_row = []\n",
    "    current_row.append(line)\n",
    "\n",
    "if current_row:\n",
    "    rows.append(current_row)"
   ]
  },
  {
   "cell_type": "code",
   "execution_count": 35,
   "id": "05584d1e",
   "metadata": {},
   "outputs": [],
   "source": [
    "def get_num(s):\n",
    "    match = re.match(r'^\\d+(\\.\\d+)?', s)\n",
    "    return match.group() if match else \"\""
   ]
  },
  {
   "cell_type": "code",
   "execution_count": 81,
   "id": "7ff282f7",
   "metadata": {},
   "outputs": [],
   "source": [
    "def name_to_smi(name):\n",
    "    return cirpy.resolve(name, 'smiles')\n",
    "\n",
    "def cas_to_smi(cas):\n",
    "    return cirpy.resolve(cas, 'smiles', ['cas_number'])\n",
    "\n",
    "def inchikey_to_smi(ik):\n",
    "    return cirpy.resolve(ik, 'smiles', ['stdinchikey'])"
   ]
  },
  {
   "cell_type": "code",
   "execution_count": 85,
   "id": "b85abc38",
   "metadata": {},
   "outputs": [],
   "source": [
    "def extract_details(row):\n",
    "    reaxys_id, cas_rn, formula, mw, inchikey = None, None, None, None, None\n",
    "    id_fields = [] # list to hold the above\n",
    "    \n",
    "    uv_entry = []\n",
    "    uv_entries = []\n",
    "    \n",
    "    for i, line in enumerate(row):\n",
    "        if \"Reaxys ID\" in line: \n",
    "            reaxys_id = line.split(\" \")[2].strip()\n",
    "        if \"CAS Registry Number\" in line: \n",
    "            cas_rn = line.split(\":\")[-1].strip()\n",
    "        if \"Molecular Formula\" in line: \n",
    "            formula = line.split(\":\")[-1].strip()\n",
    "        if \"Molecular Weight\" in line: \n",
    "            mw = line.split(\":\")[-1].strip()\n",
    "        if \"InChI Key\" in line: \n",
    "            inchikey = line.split(\":\")[-1].strip()\n",
    "            #solute_smi = inchikey_to_smi(inchikey)\n",
    "            #solute_smi = Chem.MolToSmiles(Chem.MolFromSmiles(solute_smi))\n",
    "        \n",
    "        num_uv_entries = None\n",
    "        if \"UV/VIS Spectroscopy (\" in line:\n",
    "            num_uv_entries = re.search(r'\\((.*?)\\)',line).group(1)\n",
    "        \n",
    "        solvent, solvent_smi = None, None\n",
    "        uv_abs_maxima, uv_coefs = [], []\n",
    "        uv_entry_flag = False\n",
    "        \n",
    "        if \"Solvent (UV/VIS Spectro-\" in line:\n",
    "            solvent = row[i+2]\n",
    "            try: \n",
    "                solvent_smi = solvents[solvent]\n",
    "            except: \n",
    "                pass\n",
    "            uv_entry.append(solvent)\n",
    "            uv_entry.append(solvent_smi)\n",
    "        if \"Absorption Maxima (UV/\" in line: \n",
    "            max_raw = \"\".join(row[i+2].split()).split(\";\")\n",
    "            max_list = [float(get_num(m)) for m in max_raw]\n",
    "            uv_abs_maxima.append(max_list)\n",
    "            uv_entry.append(uv_abs_maxima)\n",
    "        if \"Ext./Abs. Coefficient\" in line: \n",
    "            eac_raw = \"\".join(row[i+2].split()).split(\";\")\n",
    "            eac_list = [float(get_num(e)) for e in eac_raw]\n",
    "            uv_coefs.append(eac_list)\n",
    "            uv_entry.append(uv_coefs)\n",
    "            uv_entry_flag = True # \"break\" to add individual UV entry to running list of UV entries. \n",
    "        if \"Log epsilon\" in line: # assumed to be mutually exclusive with EAC above.\n",
    "            eps_raw = \"\".join(line[12:].split()).split(\";\")\n",
    "            eac_list = [10.0**float(get_num(e)) for e in eps_raw]\n",
    "            uv_coefs.append(eac_list)\n",
    "            uv_entry.append(uv_coefs)\n",
    "            uv_entry_flag = True # \"break\" to add individual UV entry to running list of UV entries. \n",
    "        \n",
    "        '''\n",
    "        if line.endswith(\"View in Reaxys\") and line != \"View in Reaxys\": # ~sufficient to target reference entries.\n",
    "            ref = rmc(line[:-16]) # doesn't get multi-line entries, though -- could clean this up at a later stage.\n",
    "            uv_entry.append(ref)\n",
    "        '''\n",
    "        \n",
    "        if uv_entry_flag is True:\n",
    "            uv_entries.append(uv_entry)\n",
    "            uv_entry = []\n",
    "            solvent = None\n",
    "            solvent_smi = None\n",
    "            uv_abs_maxima, uv_coefs = [], []\n",
    "            uv_entry_flag = False\n",
    "            \n",
    "    id_fields.append((reaxys_id, cas_rn, formula, mw, inchikey)) \n",
    "    return id_fields, uv_entries"
   ]
  },
  {
   "cell_type": "code",
   "execution_count": 86,
   "id": "d0b7aa04",
   "metadata": {},
   "outputs": [
    {
     "ename": "OverflowError",
     "evalue": "(34, 'Result too large')",
     "output_type": "error",
     "traceback": [
      "\u001b[0;31m---------------------------------------------------------------------------\u001b[0m",
      "\u001b[0;31mOverflowError\u001b[0m                             Traceback (most recent call last)",
      "Cell \u001b[0;32mIn[86], line 1\u001b[0m\n\u001b[0;32m----> 1\u001b[0m extracted_entries \u001b[38;5;241m=\u001b[39m \u001b[43m[\u001b[49m\u001b[43mextract_details\u001b[49m\u001b[43m(\u001b[49m\u001b[43mrows\u001b[49m\u001b[43m[\u001b[49m\u001b[43mi\u001b[49m\u001b[43m]\u001b[49m\u001b[43m)\u001b[49m\u001b[43m \u001b[49m\u001b[38;5;28;43;01mfor\u001b[39;49;00m\u001b[43m \u001b[49m\u001b[43mi\u001b[49m\u001b[43m \u001b[49m\u001b[38;5;129;43;01min\u001b[39;49;00m\u001b[43m \u001b[49m\u001b[38;5;28;43mrange\u001b[39;49m\u001b[43m(\u001b[49m\u001b[38;5;241;43m1\u001b[39;49m\u001b[43m,\u001b[49m\u001b[43m \u001b[49m\u001b[38;5;28;43mlen\u001b[39;49m\u001b[43m(\u001b[49m\u001b[43mrows\u001b[49m\u001b[43m)\u001b[49m\u001b[43m)\u001b[49m\u001b[43m]\u001b[49m\n",
      "Cell \u001b[0;32mIn[86], line 1\u001b[0m, in \u001b[0;36m<listcomp>\u001b[0;34m(.0)\u001b[0m\n\u001b[0;32m----> 1\u001b[0m extracted_entries \u001b[38;5;241m=\u001b[39m [\u001b[43mextract_details\u001b[49m\u001b[43m(\u001b[49m\u001b[43mrows\u001b[49m\u001b[43m[\u001b[49m\u001b[43mi\u001b[49m\u001b[43m]\u001b[49m\u001b[43m)\u001b[49m \u001b[38;5;28;01mfor\u001b[39;00m i \u001b[38;5;129;01min\u001b[39;00m \u001b[38;5;28mrange\u001b[39m(\u001b[38;5;241m1\u001b[39m, \u001b[38;5;28mlen\u001b[39m(rows))]\n",
      "Cell \u001b[0;32mIn[85], line 51\u001b[0m, in \u001b[0;36mextract_details\u001b[0;34m(row)\u001b[0m\n\u001b[1;32m     49\u001b[0m \u001b[38;5;28;01mif\u001b[39;00m \u001b[38;5;124m\"\u001b[39m\u001b[38;5;124mLog epsilon\u001b[39m\u001b[38;5;124m\"\u001b[39m \u001b[38;5;129;01min\u001b[39;00m line: \u001b[38;5;66;03m# assumed to be mutually exclusive with EAC above.\u001b[39;00m\n\u001b[1;32m     50\u001b[0m     eps_raw \u001b[38;5;241m=\u001b[39m \u001b[38;5;124m\"\u001b[39m\u001b[38;5;124m\"\u001b[39m\u001b[38;5;241m.\u001b[39mjoin(line[\u001b[38;5;241m12\u001b[39m:]\u001b[38;5;241m.\u001b[39msplit())\u001b[38;5;241m.\u001b[39msplit(\u001b[38;5;124m\"\u001b[39m\u001b[38;5;124m;\u001b[39m\u001b[38;5;124m\"\u001b[39m)\n\u001b[0;32m---> 51\u001b[0m     eac_list \u001b[38;5;241m=\u001b[39m \u001b[43m[\u001b[49m\u001b[38;5;241;43m10.0\u001b[39;49m\u001b[38;5;241;43m*\u001b[39;49m\u001b[38;5;241;43m*\u001b[39;49m\u001b[38;5;28;43mfloat\u001b[39;49m\u001b[43m(\u001b[49m\u001b[43mget_num\u001b[49m\u001b[43m(\u001b[49m\u001b[43me\u001b[49m\u001b[43m)\u001b[49m\u001b[43m)\u001b[49m\u001b[43m \u001b[49m\u001b[38;5;28;43;01mfor\u001b[39;49;00m\u001b[43m \u001b[49m\u001b[43me\u001b[49m\u001b[43m \u001b[49m\u001b[38;5;129;43;01min\u001b[39;49;00m\u001b[43m \u001b[49m\u001b[43meps_raw\u001b[49m\u001b[43m]\u001b[49m\n\u001b[1;32m     52\u001b[0m     uv_coefs\u001b[38;5;241m.\u001b[39mappend(eac_list)\n\u001b[1;32m     53\u001b[0m     uv_entry\u001b[38;5;241m.\u001b[39mappend(uv_coefs)\n",
      "Cell \u001b[0;32mIn[85], line 51\u001b[0m, in \u001b[0;36m<listcomp>\u001b[0;34m(.0)\u001b[0m\n\u001b[1;32m     49\u001b[0m \u001b[38;5;28;01mif\u001b[39;00m \u001b[38;5;124m\"\u001b[39m\u001b[38;5;124mLog epsilon\u001b[39m\u001b[38;5;124m\"\u001b[39m \u001b[38;5;129;01min\u001b[39;00m line: \u001b[38;5;66;03m# assumed to be mutually exclusive with EAC above.\u001b[39;00m\n\u001b[1;32m     50\u001b[0m     eps_raw \u001b[38;5;241m=\u001b[39m \u001b[38;5;124m\"\u001b[39m\u001b[38;5;124m\"\u001b[39m\u001b[38;5;241m.\u001b[39mjoin(line[\u001b[38;5;241m12\u001b[39m:]\u001b[38;5;241m.\u001b[39msplit())\u001b[38;5;241m.\u001b[39msplit(\u001b[38;5;124m\"\u001b[39m\u001b[38;5;124m;\u001b[39m\u001b[38;5;124m\"\u001b[39m)\n\u001b[0;32m---> 51\u001b[0m     eac_list \u001b[38;5;241m=\u001b[39m [\u001b[38;5;241;43m10.0\u001b[39;49m\u001b[38;5;241;43m*\u001b[39;49m\u001b[38;5;241;43m*\u001b[39;49m\u001b[38;5;28;43mfloat\u001b[39;49m\u001b[43m(\u001b[49m\u001b[43mget_num\u001b[49m\u001b[43m(\u001b[49m\u001b[43me\u001b[49m\u001b[43m)\u001b[49m\u001b[43m)\u001b[49m \u001b[38;5;28;01mfor\u001b[39;00m e \u001b[38;5;129;01min\u001b[39;00m eps_raw]\n\u001b[1;32m     52\u001b[0m     uv_coefs\u001b[38;5;241m.\u001b[39mappend(eac_list)\n\u001b[1;32m     53\u001b[0m     uv_entry\u001b[38;5;241m.\u001b[39mappend(uv_coefs)\n",
      "\u001b[0;31mOverflowError\u001b[0m: (34, 'Result too large')"
     ]
    }
   ],
   "source": [
    "extracted_entries = [extract_details(rows[i]) for i in range(1, len(rows))]"
   ]
  },
  {
   "cell_type": "code",
   "execution_count": 77,
   "id": "39627315",
   "metadata": {
    "scrolled": true
   },
   "outputs": [
    {
     "name": "stdout",
     "output_type": "stream",
     "text": [
      "methanol\n",
      "acetonitrile\n"
     ]
    },
    {
     "data": {
      "text/plain": [
       "([('1437208',\n",
       "   '58450-01-4',\n",
       "   'C16H12O6',\n",
       "   '300.268',\n",
       "   'UBYOEDLUKKPPPN-UHFFFAOYSA-N')],\n",
       " [['methanol',\n",
       "   'CO',\n",
       "   [[233.0, 257.0, 291.0, 362.0]],\n",
       "   [[6456.542290346556,\n",
       "     6025.595860743575,\n",
       "     501.18723362727246,\n",
       "     79.43282347242814]]],\n",
       "  [[[233.0, 257.0, 362.0]],\n",
       "   [[6456.542290346556, 501.18723362727246, 79.43282347242814]]],\n",
       "  ['acetonitrile',\n",
       "   'CC#N',\n",
       "   [[380.0, 292.0, 262.0, 236.0]],\n",
       "   [[6100.0, 9700.0, 34800.0, 26400.0]]]])"
      ]
     },
     "execution_count": 77,
     "metadata": {},
     "output_type": "execute_result"
    }
   ],
   "source": [
    "ex_details = extract_details(rows[64])\n",
    "ex_details"
   ]
  },
  {
   "cell_type": "code",
   "execution_count": null,
   "id": "5891190d",
   "metadata": {},
   "outputs": [],
   "source": [
    "# ex_details[0]: reaxys_id, cas_rn, formula, mw, inchikey"
   ]
  },
  {
   "cell_type": "code",
   "execution_count": 56,
   "id": "2e27c2f7",
   "metadata": {},
   "outputs": [
    {
     "data": {
      "text/html": [
       "<div>\n",
       "<style scoped>\n",
       "    .dataframe tbody tr th:only-of-type {\n",
       "        vertical-align: middle;\n",
       "    }\n",
       "\n",
       "    .dataframe tbody tr th {\n",
       "        vertical-align: top;\n",
       "    }\n",
       "\n",
       "    .dataframe thead th {\n",
       "        text-align: right;\n",
       "    }\n",
       "</style>\n",
       "<table border=\"1\" class=\"dataframe\">\n",
       "  <thead>\n",
       "    <tr style=\"text-align: right;\">\n",
       "      <th></th>\n",
       "      <th>0</th>\n",
       "      <th>1</th>\n",
       "      <th>2</th>\n",
       "      <th>3</th>\n",
       "      <th>4</th>\n",
       "    </tr>\n",
       "  </thead>\n",
       "  <tbody>\n",
       "    <tr>\n",
       "      <th>0</th>\n",
       "      <td>1437208</td>\n",
       "      <td>58450-01-4</td>\n",
       "      <td>C16H12O6</td>\n",
       "      <td>300.268</td>\n",
       "      <td>UBYOEDLUKKPPPN-UHFFFAOYSA-N</td>\n",
       "    </tr>\n",
       "  </tbody>\n",
       "</table>\n",
       "</div>"
      ],
      "text/plain": [
       "         0           1         2        3                            4\n",
       "0  1437208  58450-01-4  C16H12O6  300.268  UBYOEDLUKKPPPN-UHFFFAOYSA-N"
      ]
     },
     "execution_count": 56,
     "metadata": {},
     "output_type": "execute_result"
    }
   ],
   "source": [
    "pd.DataFrame(ex_details[0])"
   ]
  },
  {
   "cell_type": "code",
   "execution_count": 76,
   "id": "9e2c51d9",
   "metadata": {},
   "outputs": [
    {
     "data": {
      "text/plain": [
       "[[[[233.0, 257.0, 291.0, 362.0]],\n",
       "  [[6456.542290346556,\n",
       "    6025.595860743575,\n",
       "    501.18723362727246,\n",
       "    79.43282347242814]]],\n",
       " [[[233.0, 257.0, 362.0]],\n",
       "  [[6456.542290346556, 501.18723362727246, 79.43282347242814]]],\n",
       " [[[380.0, 292.0, 262.0, 236.0]], [[6100.0, 9700.0, 34800.0, 26400.0]]]]"
      ]
     },
     "execution_count": 76,
     "metadata": {},
     "output_type": "execute_result"
    }
   ],
   "source": [
    "ex_details[1]"
   ]
  },
  {
   "cell_type": "code",
   "execution_count": 9,
   "id": "fe34a3e3",
   "metadata": {},
   "outputs": [
    {
     "data": {
      "text/plain": [
       "['Reaxys ID 1437208 View in Reaxys 64/999',\n",
       " 'O',\n",
       " 'O',\n",
       " 'OO',\n",
       " 'OH',\n",
       " 'HO',\n",
       " 'CAS Registry Number: 58450-01-4',\n",
       " 'Chemical Name: sydowinin A',\n",
       " 'Linear Structure Formula: C16H12O6',\n",
       " 'Molecular Formula: C16H12O6',\n",
       " 'Molecular Weight: 300.268',\n",
       " 'Type of Substance: heterocyclic',\n",
       " 'InChI Key: UBYOEDLUKKPPPN-UHFFFAOYSA-N',\n",
       " 'Note:  ',\n",
       " 'UV/VIS Spectroscopy (4)',\n",
       " '1 of 4 Solvent (UV/VIS Spectro-',\n",
       " 'scopy)',\n",
       " 'methanol',\n",
       " 'Absorption Maxima (UV/',\n",
       " 'VIS) [nm]',\n",
       " '233; 257; 291; 362',\n",
       " 'Log epsilon 3.81; 3.78; 2.7; 1.9',\n",
       " 'Goddard, Mary-Lorène; Mottier, Nicolas; Jeanneret-Gris, Julie; Christen, Danilo; Tabacchi, Raphaël; Abou-Mansour,',\n",
       " 'Eliane; Journal of Agricultural and Food Chemistry; vol. 62; nb. 34; (2014); p. 8602 - 8607, View in Reaxys',\n",
       " '2 of 4 Absorption Maxima (UV/',\n",
       " 'VIS) [nm]',\n",
       " '233; 257; 362Copyright © 2024 Elsevier Life Sciences IP Limited except certain content provided by',\n",
       " 'third parties. Reaxys is a trademark of Elsevier Life Sciences IP Limited.',\n",
       " '75/866 2024-11-04 22:23:57',\n",
       " 'Log epsilon 3.81; 2.7; 1.9',\n",
       " 'Goddard, Mary-Lorène; Mottier, Nicolas; Jeanneret-Gris, Julie; Christen, Danilo; Tabacchi, Raphaël; Abou-Mansour,',\n",
       " 'Eliane; Journal of Agricultural and Food Chemistry; vol. 62; nb. 34; (2014); p. 8602 - 8607, View in Reaxys',\n",
       " '3 of 4 Description (UV/VIS',\n",
       " 'Spectroscopy)',\n",
       " 'Absorption maxima',\n",
       " 'Solvent (UV/VIS Spectro-',\n",
       " 'scopy)',\n",
       " 'acetonitrile',\n",
       " 'Absorption Maxima (UV/',\n",
       " 'VIS) [nm]',\n",
       " '380; 292; 262; 236',\n",
       " 'Ext./Abs. Coefficient',\n",
       " '[l·mol-1cm-1]',\n",
       " '6100; 9700; 34800; 26400',\n",
       " 'Nakanishi; Ando; Kawamoto; Matsuda; Journal of Antibiotics; vol. 46; nb. 12; (1993); p. 1775 - 1781, View in Reaxys',\n",
       " '4 of 4 Description (UV/VIS',\n",
       " 'Spectroscopy)',\n",
       " 'UV/VIS',\n",
       " 'Hamasaki et al.; Agricultural and Biological Chemistry; vol. 39; (1975); p. 2337,2339, View in Reaxys']"
      ]
     },
     "execution_count": 9,
     "metadata": {},
     "output_type": "execute_result"
    }
   ],
   "source": [
    "rows[64]"
   ]
  },
  {
   "cell_type": "code",
   "execution_count": 28,
   "id": "a200de48",
   "metadata": {},
   "outputs": [],
   "source": [
    "# UV.EAC is \"Ext./Abs. Coefficient\"\n",
    "# UV.LOGE is \"Log epsilon\"\n",
    "## if UV.LOGE, then transformed into units of EAC. \n",
    "# UV.AM is \"Absorption Maxima (UV/VIS) [nm]\"\n",
    "\n",
    "# TODO: split by semicolons -- ordinal matching\n",
    "\n",
    "# Do their Chemprop model as a benchmark. \n",
    "\n",
    "#All models were trained using Chemprop version 1.5. The models were trained using the MIT\n",
    "#SuperCloud, a Linux environment with Intel Xeon Gold 6248 CPU (40 cores) and a Nvidia Tesla\n",
    "#V100 GPU. For reproducibility, the training command line argument was:\n",
    "\n",
    "#Chemprop_train --data_path train_set.csv --save_dir model_x\\\n",
    "#--num_folds 10 --dataset_type regression --config_path\\ hyperopts.json --\n",
    "#epochs 200 --number_of_molecules 2\n",
    "\n",
    "# Try: LLMs, Mordred descriptors. \n",
    "\n",
    "### comp_SGM_110724.1435\n",
    "# OceanOptics UV detector en route -- AFZ sending quote details. "
   ]
  }
 ],
 "metadata": {
  "kernelspec": {
   "display_name": "Python 3",
   "language": "python",
   "name": "python3"
  },
  "language_info": {
   "codemirror_mode": {
    "name": "ipython",
    "version": 3
   },
   "file_extension": ".py",
   "mimetype": "text/x-python",
   "name": "python",
   "nbconvert_exporter": "python",
   "pygments_lexer": "ipython3",
   "version": "3.11.9"
  }
 },
 "nbformat": 4,
 "nbformat_minor": 5
}
